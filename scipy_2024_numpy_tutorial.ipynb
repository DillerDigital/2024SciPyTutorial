{
 "cells": [
  {
   "cell_type": "markdown",
   "id": "01aefb58-5c6d-461e-862a-ecee9b9861f2",
   "metadata": {},
   "source": [
    "# A Practical Introduction to NumPy"
   ]
  },
  {
   "cell_type": "markdown",
   "id": "6a622c5a-018e-4458-a82b-fb3377ef19de",
   "metadata": {},
   "source": [
    "# Bootstrap\n",
    "## Install Python & Create a Python Environment\n",
    "\n",
    "**Recommended**: download and install the latest stable release of Python from [Python.org](https://www.python.org/downloads/).\n",
    "\n",
    "### Linux / macOS\n",
    "\n",
    "```Shell\n",
    "$ python -m venv scipy_2024_tutorial  # might need python3 for macOS\n",
    "$ source scipy_2024_tutorial/bin/activate\n",
    "$ pip install jupyterlab numpy matplotlib\n",
    "```\n",
    "\n",
    "### Windows\n",
    "\n",
    "```PowerShell\n",
    "> py -m venv scipy_2024_tutorial\n",
    "> scipy_2024_tutorial\\Scripts\\Activate\n",
    "> pip install jupyterlab numpy matplotlib\n",
    "```\n",
    "\n",
    "Of course if you have your favorite _other_ Python environment manager, use that.\n",
    "\n",
    "## Tutorial Materials:\n",
    "\n",
    "https://github.com/DillerDigital/2024SciPyTutorial\n",
    "\n",
    "Clone the repository or otherwise download the materials and navigate to the directory with the materials.\n",
    "\n",
    "## Launch Jupyter Lab\n",
    "```Shell\n",
    "$ jupyter lab\n",
    "```"
   ]
  },
  {
   "cell_type": "markdown",
   "id": "b57b8e30-7c19-4663-82cf-130b4037b7ae",
   "metadata": {},
   "source": [
    "# Super-fast orientation to Jupyter Notebooks\n",
    "\n",
    "Two kinds of `cells`:\n",
    "- `Code` [`'y'`] - Python code executed in _code blocks_\n",
    "- `Markdown` [`'m'`] - Text formatted in \"Github Flavored Markdown\"\n",
    "\n",
    "Command mode v Edit Mode\n",
    "\n",
    "`Enter`:  Command Mode -> Edit Mode\n",
    "\n",
    "`Esc`:  Edit Mode -> Command Mode\n",
    "\n",
    "`Shift-Enter`:  Execute a cell and move focus to the next cell"
   ]
  },
  {
   "cell_type": "markdown",
   "id": "4f1a1a05-914d-4386-80df-449d46fa4c93",
   "metadata": {},
   "source": [
    "# Why NumPy?\n",
    "\n",
    "It turns out data types matter!"
   ]
  },
  {
   "cell_type": "markdown",
   "id": "49bc2772-0dc4-4792-949d-096b244b7527",
   "metadata": {},
   "source": [
    "## Container Types in Python\n",
    "\n",
    "`list`:  `[,]`\n",
    "- Dynamically typed\n",
    "- Ordered\n",
    "- Mutable\n",
    "- $O\\left(n\\right)$ lookup time"
   ]
  },
  {
   "cell_type": "markdown",
   "id": "42948a86-a4dd-4728-91c0-2f994c55970d",
   "metadata": {},
   "source": [
    "`tuple`:  `(,)`\n",
    "- Dynamically typed\n",
    "- Ordered\n",
    "- Immutable\n",
    "- $O\\left(n\\right)$ lookup time"
   ]
  },
  {
   "cell_type": "markdown",
   "id": "12183378-1a48-48d9-a048-93d3b3e6175e",
   "metadata": {},
   "source": [
    "`set`:  `{,}`\n",
    "- Dynamically typed\n",
    "- Unordered\n",
    "- Mutable (but hashable objects only)\n",
    "- $O\\left(1\\right)$ lookup time"
   ]
  },
  {
   "cell_type": "markdown",
   "id": "4cda468f-656d-4573-b6dc-8bab925a69aa",
   "metadata": {},
   "source": [
    "## Quick intro to `%timeit`\n",
    "\n",
    "- `%timeit` works on an expression\n",
    "- `%%timeit` works on a block of code"
   ]
  },
  {
   "cell_type": "code",
   "execution_count": 1,
   "id": "0508dc94-ede2-41e5-b538-2408e929ff29",
   "metadata": {},
   "outputs": [
    {
     "name": "stdout",
     "output_type": "stream",
     "text": [
      "77.9 μs ± 399 ns per loop (mean ± std. dev. of 7 runs, 10,000 loops each)\n",
      "74 μs ± 2.83 μs per loop (mean ± std. dev. of 7 runs, 10,000 loops each)\n",
      "31.4 ns ± 0.343 ns per loop (mean ± std. dev. of 7 runs, 10,000,000 loops each)\n"
     ]
    }
   ],
   "source": [
    "l = list(range(10_000))\n",
    "t = tuple(range(10_000))\n",
    "s = set(range(10_000))\n",
    "\n",
    "%timeit 9_999 in l\n",
    "%timeit 9_999 in t\n",
    "%timeit 9_999 in s"
   ]
  },
  {
   "cell_type": "markdown",
   "id": "930751e3-ad1b-48bc-af80-03eab0e5c737",
   "metadata": {},
   "source": [
    "## Computations in Python\n",
    "\n",
    "Let's try some computations:"
   ]
  },
  {
   "cell_type": "markdown",
   "id": "1442eb64-bffa-4e39-8b55-bd7d1f219b01",
   "metadata": {},
   "source": [
    "The usual pattern:\n",
    "\n",
    "$y = x + 1$"
   ]
  },
  {
   "cell_type": "code",
   "execution_count": 2,
   "id": "4afde128-593e-490f-88fa-7354acd15b5b",
   "metadata": {},
   "outputs": [
    {
     "name": "stdout",
     "output_type": "stream",
     "text": [
      "3.96 μs ± 30.4 ns per loop (mean ± std. dev. of 7 runs, 100,000 loops each)\n"
     ]
    }
   ],
   "source": [
    "%%timeit\n",
    "x = list(range(101))\n",
    "y = []\n",
    "for val in x:\n",
    "    y.append(val + 1)"
   ]
  },
  {
   "cell_type": "markdown",
   "id": "82f9d861-f91b-489e-a431-c0771a767594",
   "metadata": {},
   "source": [
    "Now for something a little more complex:\n",
    "\n",
    "$\n",
    "y =\\sin\\left(x\\right) \\\\\n",
    "$"
   ]
  },
  {
   "cell_type": "markdown",
   "id": "4f640d57-f869-4fd8-8396-c55399efd2f0",
   "metadata": {},
   "source": [
    "### Exercise 1 - Compute $sin\\left(x\\right)$"
   ]
  },
  {
   "cell_type": "code",
   "execution_count": 3,
   "id": "85c1513d-e44f-49e5-b480-a9eb8da78d60",
   "metadata": {},
   "outputs": [],
   "source": [
    "from math import pi, sin\n",
    "NUM_POINTS = 101\n",
    "x = [-pi + i * (2 * pi / NUM_POINTS) for i in range(NUM_POINTS)]"
   ]
  },
  {
   "cell_type": "code",
   "execution_count": 4,
   "id": "14e8737c-2047-454f-895b-c53ba9bc0cd7",
   "metadata": {},
   "outputs": [],
   "source": [
    "# your code here\n",
    "# y = []\n",
    "# ..."
   ]
  },
  {
   "cell_type": "markdown",
   "id": "909f1c8d-4b30-4082-b3cc-d04645080e00",
   "metadata": {
    "jp-MarkdownHeadingCollapsed": true
   },
   "source": [
    "#### Solution  (expand to reveal)"
   ]
  },
  {
   "cell_type": "code",
   "execution_count": 5,
   "id": "de516f12-0105-4a40-bffa-68f9858cddff",
   "metadata": {},
   "outputs": [],
   "source": [
    "y = []\n",
    "for val in x:\n",
    "    y.append(sin(val))"
   ]
  },
  {
   "cell_type": "markdown",
   "id": "96b6ff19-a3f4-4d70-b439-ec48cf61ebfe",
   "metadata": {},
   "source": [
    "Or, if you like _list comprehensions_..."
   ]
  },
  {
   "cell_type": "code",
   "execution_count": 6,
   "id": "98a28f3a-d6be-4473-9317-c0bb39ec50eb",
   "metadata": {},
   "outputs": [],
   "source": [
    "y = [sin(val) for val in x]"
   ]
  },
  {
   "cell_type": "code",
   "execution_count": 7,
   "id": "168b5776-f314-4b50-9e63-f25e67c27da8",
   "metadata": {},
   "outputs": [
    {
     "data": {
      "image/png": "[encoded data removed]",
      "text/plain": [
       "<Figure size 640x480 with 1 Axes>"
      ]
     },
     "metadata": {},
     "output_type": "display_data"
    }
   ],
   "source": [
    "import matplotlib.pyplot as plt\n",
    "plt.plot(x,y);"
   ]
  },
  {
   "cell_type": "markdown",
   "id": "1c85c824-d0e2-4a2c-8260-ac37da7ec482",
   "metadata": {},
   "source": [
    "For comparison, let's `%%timeit`"
   ]
  },
  {
   "cell_type": "code",
   "execution_count": 8,
   "id": "e509d99e-88d8-4a16-b019-9b472ae6d301",
   "metadata": {},
   "outputs": [
    {
     "name": "stdout",
     "output_type": "stream",
     "text": [
      "5.3 μs ± 34.8 ns per loop (mean ± std. dev. of 7 runs, 100,000 loops each)\n"
     ]
    }
   ],
   "source": [
    "%%timeit\n",
    "y = []\n",
    "for val in x:\n",
    "    y.append(sin(val))"
   ]
  },
  {
   "cell_type": "code",
   "execution_count": 9,
   "id": "3c57eb8e-9940-4119-b439-0eeefc1f7b3c",
   "metadata": {},
   "outputs": [
    {
     "name": "stdout",
     "output_type": "stream",
     "text": [
      "4.98 μs ± 38.2 ns per loop (mean ± std. dev. of 7 runs, 100,000 loops each)\n"
     ]
    }
   ],
   "source": [
    "%%timeit\n",
    "y = [sin(val) for val in x]"
   ]
  },
  {
   "cell_type": "markdown",
   "id": "83d8dc4d-143c-4c45-ab99-70fbdc450818",
   "metadata": {},
   "source": [
    "### Exercise 2 - Compute the Derivative of $sin\\left(x\\right)$\n",
    "\n",
    "$\n",
    "\\begin{align}\n",
    "\\frac{dy}{dx} & \\approx\\frac{\\Delta y}{\\Delta x} \\\\\n",
    "\\frac{\\Delta y}{\\Delta x}\\bigg|_i & =\\frac{y_{i+1}-y_{i}}{x_{i+1}-x_{i}} \\ \\ \\textrm{for} \\ i=0 \\dots \\ n-1 \\\\\n",
    "\\end{align}\n",
    "$"
   ]
  },
  {
   "cell_type": "code",
   "execution_count": 10,
   "id": "16f562de-4f44-487b-92b3-0b258930cdf8",
   "metadata": {},
   "outputs": [],
   "source": [
    "# your code here\n",
    "# dy_dx = []\n",
    "# ..."
   ]
  },
  {
   "cell_type": "markdown",
   "id": "dc6f4292-4aa0-4030-80de-dc6e37ff8fc9",
   "metadata": {
    "jp-MarkdownHeadingCollapsed": true
   },
   "source": [
    "#### Solution (expand to reveal)"
   ]
  },
  {
   "cell_type": "code",
   "execution_count": 11,
   "id": "96129c2c-3dc6-4607-99a3-01a003212cbd",
   "metadata": {},
   "outputs": [],
   "source": [
    "import matplotlib.pyplot as plt\n",
    "\n",
    "dy_dx = []\n",
    "for i in range(NUM_POINTS - 1):\n",
    "    dy = y[i + 1] - y[i]\n",
    "    dx = x[i + 1] - x[i]\n",
    "    dy_dx.append(dy / dx)"
   ]
  },
  {
   "cell_type": "code",
   "execution_count": 12,
   "id": "eaec9d23-c2a4-4f54-8662-db0633933219",
   "metadata": {},
   "outputs": [
    {
     "data": {
      "image/png": "[encoded data removed]",
      "text/plain": [
       "<Figure size 640x480 with 1 Axes>"
      ]
     },
     "metadata": {},
     "output_type": "display_data"
    }
   ],
   "source": [
    "plt.plot(x, y, label=r'$\\sin\\left(x\\right)$')\n",
    "plt.plot(x[:-1], dy_dx, label=r'$\\frac{\\sin\\left(x\\right)}{dx}$')\n",
    "plt.legend();"
   ]
  },
  {
   "cell_type": "code",
   "execution_count": 13,
   "id": "60846043-e2c8-4726-92ce-5b5a2741380e",
   "metadata": {},
   "outputs": [
    {
     "name": "stdout",
     "output_type": "stream",
     "text": [
      "12.1 μs ± 175 ns per loop (mean ± std. dev. of 7 runs, 100,000 loops each)\n"
     ]
    }
   ],
   "source": [
    "%%timeit\n",
    "dy_dx = []\n",
    "for i in range(NUM_POINTS - 1):\n",
    "    dy = y[i + 1] - y[i]\n",
    "    dx = x[i + 1] - x[i]\n",
    "    dy_dx.append(dy / dx)"
   ]
  },
  {
   "cell_type": "markdown",
   "id": "32348178-8096-435c-9aa8-6fac6d87487e",
   "metadata": {},
   "source": [
    "# Meet the NumPy Array\n",
    "\n",
    "`list`:  `[,]`\n",
    "- Dynamically typed\n",
    "- Ordered\n",
    "- Mutable **values**\n",
    "- Mutable **length**"
   ]
  },
  {
   "cell_type": "markdown",
   "id": "d53f8ed9-ba68-408d-881d-93f4bdbaad4f",
   "metadata": {},
   "source": [
    "`numpy.ndarray`:  `array([,])`\n",
    "- Statically typed\n",
    "- Ordered\n",
    "- Mutable **values**\n",
    "- Immutable **length**"
   ]
  },
  {
   "cell_type": "code",
   "execution_count": 14,
   "id": "9549aaa9-7fc1-4828-99d2-8e084f314708",
   "metadata": {},
   "outputs": [
    {
     "data": {
      "text/plain": [
       "array([0, 1, 2, 3, 4, 5, 6, 7, 8, 9])"
      ]
     },
     "execution_count": 14,
     "metadata": {},
     "output_type": "execute_result"
    }
   ],
   "source": [
    "import numpy as np\n",
    "\n",
    "a = np.array(range(10))\n",
    "a"
   ]
  },
  {
   "cell_type": "code",
   "execution_count": 15,
   "id": "6c08bc7d-567c-4b11-aa97-fc78a442b962",
   "metadata": {},
   "outputs": [
    {
     "data": {
      "text/plain": [
       "numpy.ndarray"
      ]
     },
     "execution_count": 15,
     "metadata": {},
     "output_type": "execute_result"
    }
   ],
   "source": [
    "type(a)"
   ]
  },
  {
   "cell_type": "markdown",
   "id": "2f98cb4a-c99d-416f-8b5c-29d5c050a248",
   "metadata": {},
   "source": [
    "Indexing and setting work the same as for a Python `list`."
   ]
  },
  {
   "cell_type": "code",
   "execution_count": 16,
   "id": "0896a878-6fdb-4301-9d27-a15c60bacac8",
   "metadata": {},
   "outputs": [
    {
     "name": "stdout",
     "output_type": "stream",
     "text": [
      "-9\n"
     ]
    }
   ],
   "source": [
    "a[0] = -9\n",
    "print(a[0])"
   ]
  },
  {
   "cell_type": "markdown",
   "id": "a3012b3e-419e-4596-aa76-37512a39f167",
   "metadata": {},
   "source": [
    "## Array Creation\n",
    "\n",
    "### `arange`\n",
    "`np.arange([start,] stop[, step,], dtype=None)`\n",
    "\n",
    "Similar to Python's `range()` -> creates an array of values in the range `[start, stop)` with the specific `step` value, but allows **non-integers** for `start`, `stop`, and `step`.  Also, `arange` returns an `np.ndarray`, unlike `range` which returns an _iterator_.\n",
    "\n",
    "### `linspace`\n",
    "`np.linspace(start, stop, num=50, dtype=None)`\n",
    "\n",
    "Creates `num` evenly spaced elements between `start` and `stop` (endpoint inclusive)."
   ]
  },
  {
   "cell_type": "code",
   "execution_count": 17,
   "id": "c4a1b748-350b-4909-9822-627364d65266",
   "metadata": {},
   "outputs": [
    {
     "data": {
      "text/plain": [
       "array([0, 1, 2, 3, 4, 5, 6, 7, 8, 9])"
      ]
     },
     "execution_count": 17,
     "metadata": {},
     "output_type": "execute_result"
    }
   ],
   "source": [
    "np.arange(10)"
   ]
  },
  {
   "cell_type": "code",
   "execution_count": 18,
   "id": "bd9df0ae-4876-46f4-b5a8-896cc00b25a4",
   "metadata": {},
   "outputs": [
    {
     "data": {
      "text/plain": [
       "array([-2. , -1.2, -0.4,  0.4,  1.2,  2. ])"
      ]
     },
     "execution_count": 18,
     "metadata": {},
     "output_type": "execute_result"
    }
   ],
   "source": [
    "np.linspace(-2, 2, 6)"
   ]
  },
  {
   "cell_type": "markdown",
   "id": "3a72b633-6897-4344-8594-e0ff0236c969",
   "metadata": {},
   "source": [
    "### Exercise 3 - Create a NumPy array\n",
    "\n",
    "Recreate the `list` from Exercise 1 as an `ndarray`.  ($x_0=-\\pi$, $x_{100}=\\pi$, 101 elements)"
   ]
  },
  {
   "cell_type": "code",
   "execution_count": 19,
   "id": "d5846dab-dd52-4a00-8a4e-02565bf9d7de",
   "metadata": {},
   "outputs": [],
   "source": [
    "# x = "
   ]
  },
  {
   "cell_type": "markdown",
   "id": "f3c6bda5-4a01-43b9-8818-698949fcba65",
   "metadata": {
    "jp-MarkdownHeadingCollapsed": true
   },
   "source": [
    "#### Solution (expand to reveal)"
   ]
  },
  {
   "cell_type": "code",
   "execution_count": 20,
   "id": "7b2b94fe-391e-4bb6-bc29-0dd7ee4b6fcb",
   "metadata": {},
   "outputs": [],
   "source": [
    "# Solution 1\n",
    "x = np.linspace(-np.pi, np.pi, 101)"
   ]
  },
  {
   "cell_type": "code",
   "execution_count": 21,
   "id": "4f3f63c8-c38c-4523-9840-1539adb32ff3",
   "metadata": {},
   "outputs": [],
   "source": [
    "# Solution 2\n",
    "step = 2 * np.pi / 100\n",
    "x_2 = np.arange(-np.pi, np.pi + step, step)"
   ]
  },
  {
   "cell_type": "code",
   "execution_count": 22,
   "id": "9a5724cd-9bc7-4a5b-aacc-4b2c9230737c",
   "metadata": {},
   "outputs": [
    {
     "data": {
      "text/plain": [
       "(np.float64(0.0), np.float64(8.881784197001252e-15))"
      ]
     },
     "execution_count": 22,
     "metadata": {},
     "output_type": "execute_result"
    }
   ],
   "source": [
    "# In addition to the math, this is why I prefer np.linspace\n",
    "x[-1] - np.pi, x_2[-1] - np.pi"
   ]
  },
  {
   "cell_type": "markdown",
   "id": "6484e00d-49d8-4362-a161-27a1cdb9b8f6",
   "metadata": {},
   "source": [
    "## Dtypes"
   ]
  },
  {
   "cell_type": "code",
   "execution_count": 23,
   "id": "f75b87b3-8d78-4f27-8c4c-418e6504cb29",
   "metadata": {},
   "outputs": [
    {
     "data": {
      "text/plain": [
       "dtype('int64')"
      ]
     },
     "execution_count": 23,
     "metadata": {},
     "output_type": "execute_result"
    }
   ],
   "source": [
    "a.dtype"
   ]
  },
  {
   "cell_type": "code",
   "execution_count": 24,
   "id": "d0198690-6ca0-4548-8f81-b2aac090d7f7",
   "metadata": {},
   "outputs": [
    {
     "data": {
      "text/plain": [
       "array([-9,  1,  5,  3,  4,  5,  6,  7,  8,  9])"
      ]
     },
     "execution_count": 24,
     "metadata": {},
     "output_type": "execute_result"
    }
   ],
   "source": [
    "a[2] = 5.5\n",
    "a"
   ]
  },
  {
   "cell_type": "code",
   "execution_count": 25,
   "id": "e9060d56-ade5-44a7-b640-11423a918bf4",
   "metadata": {},
   "outputs": [
    {
     "data": {
      "text/plain": [
       "dtype('float64')"
      ]
     },
     "execution_count": 25,
     "metadata": {},
     "output_type": "execute_result"
    }
   ],
   "source": [
    "b = np.array(range(10), dtype=float)\n",
    "b.dtype"
   ]
  },
  {
   "cell_type": "code",
   "execution_count": 26,
   "id": "e52183f6-10ef-492b-b559-a5ab53a92ee6",
   "metadata": {},
   "outputs": [
    {
     "data": {
      "text/plain": [
       "array([0. , 1. , 5.5, 3. , 4. , 5. , 6. , 7. , 8. , 9. ])"
      ]
     },
     "execution_count": 26,
     "metadata": {},
     "output_type": "execute_result"
    }
   ],
   "source": [
    "b[2] = 5.5\n",
    "b"
   ]
  },
  {
   "cell_type": "code",
   "execution_count": null,
   "id": "2d6dd10d-0acf-44fd-8c4a-633887aafb23",
   "metadata": {},
   "outputs": [],
   "source": []
  },
  {
   "cell_type": "markdown",
   "id": "bb8a6d33-6e8e-47b3-9001-7d95f42da0ae",
   "metadata": {},
   "source": [
    "## Digression: `printoptions`"
   ]
  },
  {
   "cell_type": "code",
   "execution_count": 27,
   "id": "a6d0b0ee-0bb5-4131-800e-a6845adfb9eb",
   "metadata": {},
   "outputs": [
    {
     "data": {
      "text/plain": [
       "{'edgeitems': 3,\n",
       " 'threshold': 1000,\n",
       " 'floatmode': 'maxprec',\n",
       " 'precision': 8,\n",
       " 'suppress': False,\n",
       " 'linewidth': 75,\n",
       " 'nanstr': 'nan',\n",
       " 'infstr': 'inf',\n",
       " 'sign': '-',\n",
       " 'formatter': None,\n",
       " 'legacy': False}"
      ]
     },
     "execution_count": 27,
     "metadata": {},
     "output_type": "execute_result"
    }
   ],
   "source": [
    "np.get_printoptions()"
   ]
  },
  {
   "cell_type": "code",
   "execution_count": 28,
   "id": "a3f349f9-dbce-4450-8009-b52b81e81b12",
   "metadata": {},
   "outputs": [],
   "source": [
    "np.set_printoptions(\n",
    "    precision=3,\n",
    "    linewidth=75,\n",
    ")"
   ]
  },
  {
   "cell_type": "markdown",
   "id": "d13138fe-8a49-48e5-92be-89c28bd6e4e0",
   "metadata": {},
   "source": [
    "## Computations\n",
    "\n",
    "Computations in NumPy are _vectorized_, meaning no `for` loops are needed.  In fact, `for` loops are discouraged because they will slow you down."
   ]
  },
  {
   "cell_type": "code",
   "execution_count": 29,
   "id": "9695983c-84fc-4222-85ff-890f8ba57d35",
   "metadata": {},
   "outputs": [
    {
     "data": {
      "text/plain": [
       "array([-8,  2,  6,  4,  5,  6,  7,  8,  9, 10])"
      ]
     },
     "execution_count": 29,
     "metadata": {},
     "output_type": "execute_result"
    }
   ],
   "source": [
    "a + 1"
   ]
  },
  {
   "cell_type": "code",
   "execution_count": 30,
   "id": "7cdda205-9a9e-4570-9b81-60051cd851f7",
   "metadata": {},
   "outputs": [
    {
     "name": "stdout",
     "output_type": "stream",
     "text": [
      "775 ns ± 21.5 ns per loop (mean ± std. dev. of 7 runs, 1,000,000 loops each)\n"
     ]
    }
   ],
   "source": [
    "%timeit a + 1"
   ]
  },
  {
   "cell_type": "code",
   "execution_count": 31,
   "id": "3f72c53d-b06b-4ab0-b1a0-1159ec4bf9d3",
   "metadata": {},
   "outputs": [
    {
     "name": "stdout",
     "output_type": "stream",
     "text": [
      "9 μs ± 180 ns per loop (mean ± std. dev. of 7 runs, 100,000 loops each)\n"
     ]
    }
   ],
   "source": [
    "%%timeit\n",
    "for x in a:\n",
    "    a + 1"
   ]
  },
  {
   "cell_type": "markdown",
   "id": "7df1ae58-ad47-4153-a7e8-d26fb72210b2",
   "metadata": {},
   "source": [
    "NumPy comes with lots of functions that are designed to take advantage of the `ndarray` data structure.  These are called \"universal functions\", or 'ufuncs'."
   ]
  },
  {
   "cell_type": "code",
   "execution_count": 33,
   "id": "baa8b93b-435e-4c7b-af0b-23240e206c25",
   "metadata": {},
   "outputs": [
    {
     "data": {
      "text/plain": [
       "array([-0.412,  0.841, -0.959,  0.141, -0.757, -0.959, -0.279,  0.657,\n",
       "        0.989,  0.412])"
      ]
     },
     "execution_count": 33,
     "metadata": {},
     "output_type": "execute_result"
    }
   ],
   "source": [
    "np.sin(a)"
   ]
  },
  {
   "cell_type": "markdown",
   "id": "06301962-0a09-4af4-90b6-02b2be4747b1",
   "metadata": {},
   "source": [
    "### Exercise 4 - Vectorized functions\n",
    "\n",
    "- Redo the computations of Exercise 1 using ufuncs.\n",
    "\n",
    "$y=\\sin\\left(x\\right)$\n",
    "\n",
    "- Check the speed of the computation using `%timeit`"
   ]
  },
  {
   "cell_type": "code",
   "execution_count": 34,
   "id": "5bb482bf-f6e1-4e04-a044-0039005d9fbc",
   "metadata": {},
   "outputs": [],
   "source": [
    "# Your solution here"
   ]
  },
  {
   "cell_type": "markdown",
   "id": "90b0d261-5b20-4388-ad02-a799a26e89e7",
   "metadata": {
    "jp-MarkdownHeadingCollapsed": true
   },
   "source": [
    "#### Solution (expand to reveal)"
   ]
  },
  {
   "cell_type": "code",
   "execution_count": 35,
   "id": "e1486dfc-d4e8-4287-aa82-e412d040915d",
   "metadata": {},
   "outputs": [],
   "source": [
    "x = np.linspace(-np.pi, np.pi, 101)\n",
    "y = np.sin(x)"
   ]
  },
  {
   "cell_type": "code",
   "execution_count": 36,
   "id": "af0d3827-0c64-4027-a36a-9c5606cf3827",
   "metadata": {},
   "outputs": [
    {
     "name": "stdout",
     "output_type": "stream",
     "text": [
      "1.12 μs ± 43 ns per loop (mean ± std. dev. of 7 runs, 1,000,000 loops each)\n"
     ]
    }
   ],
   "source": [
    "%%timeit\n",
    "np.sin(x)"
   ]
  },
  {
   "cell_type": "markdown",
   "id": "2b707bc3-5d1a-4439-bff6-ea8785cd19bb",
   "metadata": {},
   "source": [
    "# Array Shape and Structure\n",
    "\n",
    "## Dimensions and Axes"
   ]
  },
  {
   "cell_type": "markdown",
   "id": "b8cafed7-8d84-473b-bfe0-c4686947ece6",
   "metadata": {},
   "source": [
    "## Shape Definition and Manipulation"
   ]
  },
  {
   "cell_type": "markdown",
   "id": "f3d3df69-7643-48fd-b7fd-d0a162be8aac",
   "metadata": {},
   "source": [
    "### Exercise 5 - Load Data from a Text File"
   ]
  },
  {
   "cell_type": "code",
   "execution_count": 37,
   "id": "b2161bda-4b30-45b2-9aa4-ac21a0bb2126",
   "metadata": {},
   "outputs": [],
   "source": [
    "# "
   ]
  },
  {
   "cell_type": "markdown",
   "id": "afe5c50e-cd0f-4972-89ec-1f33fc999d4f",
   "metadata": {},
   "source": [
    "#### Solution (expand to reveal)"
   ]
  },
  {
   "cell_type": "code",
   "execution_count": 38,
   "id": "78fc0c55-90ce-4c53-afdd-a704a7cf469d",
   "metadata": {},
   "outputs": [],
   "source": [
    "#"
   ]
  },
  {
   "cell_type": "markdown",
   "id": "7b2ddc20-3df8-4c3e-a789-3da68e3044e9",
   "metadata": {},
   "source": [
    "# Slicing and Dicing\n",
    "\n",
    "## Array Slices are _Views_ of Data"
   ]
  },
  {
   "cell_type": "markdown",
   "id": "db130a58-4710-4c88-992c-822c007648f3",
   "metadata": {},
   "source": [
    "## Fancy Indexing and Mask Arrays"
   ]
  },
  {
   "cell_type": "markdown",
   "id": "15b5d2a8-c81d-497d-bfa2-902b81944fe3",
   "metadata": {},
   "source": [
    "## Broadcasting (Maybe?)"
   ]
  },
  {
   "cell_type": "code",
   "execution_count": 39,
   "id": "dbf0c294-4ba8-434b-a23f-87491ea095a0",
   "metadata": {},
   "outputs": [
    {
     "data": {
      "text/plain": [
       "array([-3.142, -3.135, -3.129, ...,  3.129,  3.135,  3.142])"
      ]
     },
     "execution_count": 39,
     "metadata": {},
     "output_type": "execute_result"
    }
   ],
   "source": [
    "x = np.linspace(-np.pi, np.pi, 1002)\n",
    "x"
   ]
  },
  {
   "cell_type": "code",
   "execution_count": 40,
   "id": "a615ab4e-5542-416a-8dd9-25ee7afc76a8",
   "metadata": {},
   "outputs": [
    {
     "data": {
      "text/plain": [
       "(1002, 1)"
      ]
     },
     "execution_count": 40,
     "metadata": {},
     "output_type": "execute_result"
    }
   ],
   "source": [
    "x.shape = (-1,1)\n",
    "x.shape"
   ]
  },
  {
   "cell_type": "code",
   "execution_count": 41,
   "id": "656cc0ff-8c46-4f11-a4ee-2b3fd93c8e0a",
   "metadata": {},
   "outputs": [
    {
     "data": {
      "text/plain": [
       "(1, 1002)"
      ]
     },
     "execution_count": 41,
     "metadata": {},
     "output_type": "execute_result"
    }
   ],
   "source": [
    "x.T.shape"
   ]
  },
  {
   "cell_type": "code",
   "execution_count": 42,
   "id": "49e2af70-f0b6-4da2-85f8-64692c9d7dc5",
   "metadata": {},
   "outputs": [],
   "source": [
    "r = np.sqrt(x ** 2 + x.T ** 2)\n",
    "z = np.sin(2 * r) / r"
   ]
  },
  {
   "cell_type": "code",
   "execution_count": 43,
   "id": "c543e7ba-64f9-49a9-b31c-86548fa7803e",
   "metadata": {},
   "outputs": [
    {
     "data": {
      "text/plain": [
       "(1002, 1002)"
      ]
     },
     "execution_count": 43,
     "metadata": {},
     "output_type": "execute_result"
    }
   ],
   "source": [
    "z.shape"
   ]
  },
  {
   "cell_type": "code",
   "execution_count": 44,
   "id": "da01fa66-3553-4dd0-9ccf-73c37bf079d4",
   "metadata": {},
   "outputs": [
    {
     "data": {
      "text/plain": [
       "<mpl_toolkits.mplot3d.art3d.Poly3DCollection at 0x10b6c3850>"
      ]
     },
     "execution_count": 44,
     "metadata": {},
     "output_type": "execute_result"
    },
    {
     "data": {
      "image/png": "[encoded data removed]",
      "text/plain": [
       "<Figure size 640x480 with 1 Axes>"
      ]
     },
     "metadata": {},
     "output_type": "display_data"
    }
   ],
   "source": [
    "ax = plt.figure().add_subplot(projection='3d')\n",
    "ax.plot_surface(x, x.T, z)"
   ]
  },
  {
   "cell_type": "markdown",
   "id": "3b724a91-9cf0-4948-9b4d-1a99a9c73923",
   "metadata": {},
   "source": [
    "### Exercise 6 - Really make it fast"
   ]
  },
  {
   "cell_type": "code",
   "execution_count": 45,
   "id": "03267655-7ddb-418c-ab41-ff21037e48e4",
   "metadata": {},
   "outputs": [],
   "source": [
    "#"
   ]
  },
  {
   "cell_type": "markdown",
   "id": "7ec707f6-7108-4b3a-8799-01cc3f4fe53c",
   "metadata": {},
   "source": [
    "#### Solution (expand to reveal)"
   ]
  },
  {
   "cell_type": "code",
   "execution_count": 46,
   "id": "3f46494b-ecce-4277-a0eb-c5c74d728207",
   "metadata": {},
   "outputs": [],
   "source": [
    "# "
   ]
  },
  {
   "cell_type": "markdown",
   "id": "9d13adb3-d0d1-4792-b9d7-24cfec0c2d38",
   "metadata": {},
   "source": [
    "# Real-World Data\n",
    "\n",
    "## Missing Data in NumPy\n",
    "\n",
    "NumPy uses `np.nan` - \"**n**ot **a** **n**umber\" to represent missing or invalid data."
   ]
  },
  {
   "cell_type": "markdown",
   "id": "ea716595-f76b-4b33-89c3-9c5adca24eea",
   "metadata": {},
   "source": [
    "## Handling Complex Data Files"
   ]
  },
  {
   "cell_type": "markdown",
   "id": "53f622c4-f4dc-41dd-bdd4-0c12ef70cf92",
   "metadata": {},
   "source": [
    "## (If Time Allows) - The Structured Array"
   ]
  },
  {
   "cell_type": "code",
   "execution_count": null,
   "id": "225b4a08-228b-45d8-9aef-b40a37a5989d",
   "metadata": {},
   "outputs": [],
   "source": []
  }
 ],
 "metadata": {
  "kernelspec": {
   "display_name": "Python 3 (ipykernel)",
   "language": "python",
   "name": "python3"
  },
  "language_info": {
   "codemirror_mode": {
    "name": "ipython",
    "version": 3
   },
   "file_extension": ".py",
   "mimetype": "text/x-python",
   "name": "python",
   "nbconvert_exporter": "python",
   "pygments_lexer": "ipython3",
   "version": "3.11.7"
  }
 },
 "nbformat": 4,
 "nbformat_minor": 5
}
