{
 "cells": [
  {
   "cell_type": "markdown",
   "id": "01aefb58-5c6d-461e-862a-ecee9b9861f2",
   "metadata": {},
   "source": [
    "# A Practical Introduction to NumPy"
   ]
  },
  {
   "cell_type": "markdown",
   "id": "6a622c5a-018e-4458-a82b-fb3377ef19de",
   "metadata": {},
   "source": [
    "# Bootstrap\n",
    "## Install Python\n",
    "\n",
    "**Recommended**: download and install the latest stable release of Python from [Python.org](https://www.python.org/downloads/).\n",
    "\n",
    "\n",
    "## Tutorial Materials:\n",
    "\n",
    "https://github.com/DillerDigital/2024SciPyTutorial\n",
    "\n",
    "Clone the repository or otherwise download the materials, move it to the location of your choice, and **navigate to the directory** with the materials.\n",
    "\n",
    "## Create a Python Environment\n",
    "### Linux / macOS\n",
    "\n",
    "```Shell\n",
    "$ python -m venv numpy_tutorial_venv  # might need python3 for macOS\n",
    "$ source numpy_tutorial_venv/bin/activate\n",
    "$ pip install jupyterlab numpy matplotlib\n",
    "```\n",
    "\n",
    "### Windows\n",
    "\n",
    "```PowerShell\n",
    "> py -m venv numpy_tutorial_venv\n",
    "> numpy_tutorial_venv\\Scripts\\Activate\n",
    "> pip install jupyterlab numpy matplotlib\n",
    "```\n",
    "\n",
    "Of course if you have your favorite _other_ Python environment manager, use that.\n",
    "\n",
    "## Launch Jupyter Lab\n",
    "```Shell\n",
    "$ jupyter lab\n",
    "```"
   ]
  },
  {
   "cell_type": "markdown",
   "id": "b57b8e30-7c19-4663-82cf-130b4037b7ae",
   "metadata": {},
   "source": [
    "# Super-fast orientation to Jupyter Notebooks\n",
    "\n",
    "Two kinds of `cells`:\n",
    "- `Code` [`'y'`] - Python code executed in _code blocks_\n",
    "- `Markdown` [`'m'`] - Text formatted in \"Github Flavored Markdown\"\n",
    "\n",
    "Command mode v Edit Mode\n",
    "\n",
    "`Enter`:  Command Mode -> Edit Mode\n",
    "\n",
    "`Esc`:  Edit Mode -> Command Mode\n",
    "\n",
    "`Shift-Enter`:  Execute a cell and move focus to the next cell"
   ]
  },
  {
   "cell_type": "markdown",
   "id": "4f1a1a05-914d-4386-80df-449d46fa4c93",
   "metadata": {},
   "source": [
    "# Why NumPy?\n",
    "\n",
    "It turns out data types matter!"
   ]
  },
  {
   "cell_type": "markdown",
   "id": "49bc2772-0dc4-4792-949d-096b244b7527",
   "metadata": {},
   "source": [
    "## Container Types in Python\n",
    "\n",
    "`list`:  `[,]`\n",
    "- Dynamically typed\n",
    "- Ordered\n",
    "- Mutable\n",
    "- $O\\left(n\\right)$ lookup time"
   ]
  },
  {
   "cell_type": "markdown",
   "id": "42948a86-a4dd-4728-91c0-2f994c55970d",
   "metadata": {},
   "source": [
    "`tuple`:  `(,)`\n",
    "- Dynamically typed\n",
    "- Ordered\n",
    "- Immutable\n",
    "- $O\\left(n\\right)$ lookup time"
   ]
  },
  {
   "cell_type": "markdown",
   "id": "12183378-1a48-48d9-a048-93d3b3e6175e",
   "metadata": {},
   "source": [
    "`set`:  `{,}`\n",
    "- Dynamically typed\n",
    "- Unordered\n",
    "- Mutable (but hashable objects only)\n",
    "- $O\\left(1\\right)$ lookup time"
   ]
  },
  {
   "cell_type": "markdown",
   "id": "4cda468f-656d-4573-b6dc-8bab925a69aa",
   "metadata": {},
   "source": [
    "## Quick intro to `%timeit`\n",
    "\n",
    "- `%timeit` works on an expression\n",
    "- `%%timeit` works on a block of code"
   ]
  },
  {
   "cell_type": "code",
   "execution_count": null,
   "id": "0508dc94-ede2-41e5-b538-2408e929ff29",
   "metadata": {},
   "outputs": [],
   "source": [
    "l = list(range(10_000))\n",
    "t = tuple(range(10_000))\n",
    "s = set(range(10_000))\n",
    "\n",
    "%timeit 9_999 in l\n",
    "%timeit 9_999 in t\n",
    "%timeit 9_999 in s"
   ]
  },
  {
   "cell_type": "markdown",
   "id": "930751e3-ad1b-48bc-af80-03eab0e5c737",
   "metadata": {},
   "source": [
    "## Computations in Python\n",
    "\n",
    "Let's try some computations:"
   ]
  },
  {
   "cell_type": "markdown",
   "id": "1442eb64-bffa-4e39-8b55-bd7d1f219b01",
   "metadata": {},
   "source": [
    "The usual pattern:\n",
    "\n",
    "$y = x + 1$"
   ]
  },
  {
   "cell_type": "code",
   "execution_count": null,
   "id": "4afde128-593e-490f-88fa-7354acd15b5b",
   "metadata": {},
   "outputs": [],
   "source": [
    "%%timeit\n",
    "x = list(range(101))\n",
    "y = []\n",
    "for val in x:\n",
    "    y.append(val + 1)"
   ]
  },
  {
   "cell_type": "markdown",
   "id": "82f9d861-f91b-489e-a431-c0771a767594",
   "metadata": {},
   "source": [
    "Now for something a little more complex:\n",
    "\n",
    "$\n",
    "y =\\sin\\left(x\\right) \\\\\n",
    "$"
   ]
  },
  {
   "cell_type": "markdown",
   "id": "4f640d57-f869-4fd8-8396-c55399efd2f0",
   "metadata": {},
   "source": [
    "### Exercise 1 - Compute $sin\\left(x\\right)$"
   ]
  },
  {
   "cell_type": "code",
   "execution_count": null,
   "id": "85c1513d-e44f-49e5-b480-a9eb8da78d60",
   "metadata": {},
   "outputs": [],
   "source": [
    "from math import pi, sin\n",
    "NUM_POINTS = 101\n",
    "x = [-pi + i * (2 * pi / NUM_POINTS) for i in range(NUM_POINTS)]"
   ]
  },
  {
   "cell_type": "code",
   "execution_count": null,
   "id": "14e8737c-2047-454f-895b-c53ba9bc0cd7",
   "metadata": {},
   "outputs": [],
   "source": [
    "# your code here\n",
    "# y = []\n",
    "# ..."
   ]
  },
  {
   "cell_type": "markdown",
   "id": "909f1c8d-4b30-4082-b3cc-d04645080e00",
   "metadata": {
    "jp-MarkdownHeadingCollapsed": true
   },
   "source": [
    "#### Solution  (expand to reveal)"
   ]
  },
  {
   "cell_type": "code",
   "execution_count": null,
   "id": "de516f12-0105-4a40-bffa-68f9858cddff",
   "metadata": {},
   "outputs": [],
   "source": [
    "y = []\n",
    "for val in x:\n",
    "    y.append(sin(val))"
   ]
  },
  {
   "cell_type": "markdown",
   "id": "96b6ff19-a3f4-4d70-b439-ec48cf61ebfe",
   "metadata": {},
   "source": [
    "Or, if you like _list comprehensions_..."
   ]
  },
  {
   "cell_type": "code",
   "execution_count": null,
   "id": "98a28f3a-d6be-4473-9317-c0bb39ec50eb",
   "metadata": {},
   "outputs": [],
   "source": [
    "y = [sin(val) for val in x]"
   ]
  },
  {
   "cell_type": "code",
   "execution_count": null,
   "id": "168b5776-f314-4b50-9e63-f25e67c27da8",
   "metadata": {},
   "outputs": [],
   "source": [
    "import matplotlib.pyplot as plt\n",
    "plt.plot(x,y);"
   ]
  },
  {
   "cell_type": "markdown",
   "id": "1c85c824-d0e2-4a2c-8260-ac37da7ec482",
   "metadata": {},
   "source": [
    "For comparison, let's `%%timeit`"
   ]
  },
  {
   "cell_type": "code",
   "execution_count": null,
   "id": "e509d99e-88d8-4a16-b019-9b472ae6d301",
   "metadata": {},
   "outputs": [],
   "source": [
    "%%timeit\n",
    "y = []\n",
    "for val in x:\n",
    "    y.append(sin(val))"
   ]
  },
  {
   "cell_type": "code",
   "execution_count": null,
   "id": "3c57eb8e-9940-4119-b439-0eeefc1f7b3c",
   "metadata": {},
   "outputs": [],
   "source": [
    "%%timeit\n",
    "y = [sin(val) for val in x]"
   ]
  },
  {
   "cell_type": "markdown",
   "id": "83d8dc4d-143c-4c45-ab99-70fbdc450818",
   "metadata": {},
   "source": [
    "### Exercise 2 - Compute the Derivative of $sin\\left(x\\right)$\n",
    "\n",
    "$\n",
    "\\begin{align}\n",
    "\\frac{dy}{dx} & \\approx\\frac{\\Delta y}{\\Delta x} \\\\\n",
    "\\frac{\\Delta y}{\\Delta x}\\bigg|_i & =\\frac{y_{i+1}-y_{i}}{x_{i+1}-x_{i}} \\ \\ \\textrm{for} \\ i=0 \\dots \\ n-1 \\\\\n",
    "\\end{align}\n",
    "$"
   ]
  },
  {
   "cell_type": "code",
   "execution_count": null,
   "id": "16f562de-4f44-487b-92b3-0b258930cdf8",
   "metadata": {},
   "outputs": [],
   "source": [
    "# your code here\n",
    "# dy_dx = []\n",
    "# ..."
   ]
  },
  {
   "cell_type": "markdown",
   "id": "dc6f4292-4aa0-4030-80de-dc6e37ff8fc9",
   "metadata": {
    "jp-MarkdownHeadingCollapsed": true
   },
   "source": [
    "#### Solution (expand to reveal)"
   ]
  },
  {
   "cell_type": "code",
   "execution_count": null,
   "id": "96129c2c-3dc6-4607-99a3-01a003212cbd",
   "metadata": {},
   "outputs": [],
   "source": [
    "import matplotlib.pyplot as plt\n",
    "\n",
    "dy_dx = []\n",
    "for i in range(NUM_POINTS - 1):\n",
    "    dy = y[i + 1] - y[i]\n",
    "    dx = x[i + 1] - x[i]\n",
    "    dy_dx.append(dy / dx)"
   ]
  },
  {
   "cell_type": "code",
   "execution_count": null,
   "id": "eaec9d23-c2a4-4f54-8662-db0633933219",
   "metadata": {},
   "outputs": [],
   "source": [
    "plt.plot(x, y, label=r'$\\sin\\left(x\\right)$')\n",
    "plt.plot(x[:-1], dy_dx, label=r'$\\frac{\\sin\\left(x\\right)}{dx}$')\n",
    "plt.legend();"
   ]
  },
  {
   "cell_type": "code",
   "execution_count": null,
   "id": "60846043-e2c8-4726-92ce-5b5a2741380e",
   "metadata": {},
   "outputs": [],
   "source": [
    "%%timeit\n",
    "dy_dx = []\n",
    "for i in range(NUM_POINTS - 1):\n",
    "    dy = y[i + 1] - y[i]\n",
    "    dx = x[i + 1] - x[i]\n",
    "    dy_dx.append(dy / dx)"
   ]
  },
  {
   "cell_type": "markdown",
   "id": "32348178-8096-435c-9aa8-6fac6d87487e",
   "metadata": {},
   "source": [
    "# Meet the NumPy Array\n",
    "\n",
    "`list`:  `[,]`\n",
    "- Dynamically typed\n",
    "- Ordered\n",
    "- Mutable **values**\n",
    "- Mutable **length**"
   ]
  },
  {
   "cell_type": "markdown",
   "id": "d53f8ed9-ba68-408d-881d-93f4bdbaad4f",
   "metadata": {},
   "source": [
    "`numpy.ndarray`:  `array([,])`\n",
    "- Statically typed\n",
    "- Ordered\n",
    "- Mutable **values**\n",
    "- Immutable **length**"
   ]
  },
  {
   "cell_type": "code",
   "execution_count": null,
   "id": "9549aaa9-7fc1-4828-99d2-8e084f314708",
   "metadata": {},
   "outputs": [],
   "source": [
    "import numpy as np\n",
    "\n",
    "a = np.array(range(10))\n",
    "a"
   ]
  },
  {
   "cell_type": "code",
   "execution_count": null,
   "id": "6c08bc7d-567c-4b11-aa97-fc78a442b962",
   "metadata": {},
   "outputs": [],
   "source": []
  },
  {
   "cell_type": "markdown",
   "id": "2f98cb4a-c99d-416f-8b5c-29d5c050a248",
   "metadata": {},
   "source": [
    "Indexing and setting work the same as for a Python `list`."
   ]
  },
  {
   "cell_type": "code",
   "execution_count": null,
   "id": "0896a878-6fdb-4301-9d27-a15c60bacac8",
   "metadata": {},
   "outputs": [],
   "source": []
  },
  {
   "cell_type": "markdown",
   "id": "a3012b3e-419e-4596-aa76-37512a39f167",
   "metadata": {},
   "source": [
    "## Array Creation\n",
    "\n",
    "### `arange`\n",
    "`np.arange([start,] stop[, step,], dtype=None)`\n",
    "\n",
    "Similar to Python's `range()` -> creates an array of values in the range `[start, stop)` with the specific `step` value, but allows **non-integers** for `start`, `stop`, and `step`.  Also, `arange` returns an `np.ndarray`, unlike `range` which returns an _iterator_.\n",
    "\n",
    "### `linspace`\n",
    "`np.linspace(start, stop, num=50, dtype=None)`\n",
    "\n",
    "Creates `num` evenly spaced elements between `start` and `stop` (endpoint inclusive)."
   ]
  },
  {
   "cell_type": "code",
   "execution_count": null,
   "id": "c4a1b748-350b-4909-9822-627364d65266",
   "metadata": {},
   "outputs": [],
   "source": [
    "np.arange(10)"
   ]
  },
  {
   "cell_type": "code",
   "execution_count": null,
   "id": "bd9df0ae-4876-46f4-b5a8-896cc00b25a4",
   "metadata": {},
   "outputs": [],
   "source": [
    "np.linspace(-2, 2, 6)"
   ]
  },
  {
   "cell_type": "markdown",
   "id": "3a72b633-6897-4344-8594-e0ff0236c969",
   "metadata": {},
   "source": [
    "### Exercise 3 - Create a NumPy array\n",
    "\n",
    "Recreate the `list` from Exercise 1 as an `ndarray`.  ($x_0=-\\pi$, $x_{100}=\\pi$, 101 elements)"
   ]
  },
  {
   "cell_type": "code",
   "execution_count": null,
   "id": "d5846dab-dd52-4a00-8a4e-02565bf9d7de",
   "metadata": {},
   "outputs": [],
   "source": [
    "# x = "
   ]
  },
  {
   "cell_type": "markdown",
   "id": "f3c6bda5-4a01-43b9-8818-698949fcba65",
   "metadata": {
    "jp-MarkdownHeadingCollapsed": true
   },
   "source": [
    "#### Solution (expand to reveal)"
   ]
  },
  {
   "cell_type": "code",
   "execution_count": null,
   "id": "7b2b94fe-391e-4bb6-bc29-0dd7ee4b6fcb",
   "metadata": {},
   "outputs": [],
   "source": [
    "# Solution 1\n",
    "x = np.linspace(-np.pi, np.pi, 101)"
   ]
  },
  {
   "cell_type": "code",
   "execution_count": null,
   "id": "4f3f63c8-c38c-4523-9840-1539adb32ff3",
   "metadata": {},
   "outputs": [],
   "source": [
    "# Solution 2\n",
    "step = 2 * np.pi / 100\n",
    "x_2 = np.arange(-np.pi, np.pi + step, step)"
   ]
  },
  {
   "cell_type": "code",
   "execution_count": null,
   "id": "9a5724cd-9bc7-4a5b-aacc-4b2c9230737c",
   "metadata": {},
   "outputs": [],
   "source": [
    "# In addition to the math, this is why I prefer np.linspace\n",
    "x[-1] - np.pi, x_2[-1] - np.pi"
   ]
  },
  {
   "cell_type": "markdown",
   "id": "6484e00d-49d8-4362-a161-27a1cdb9b8f6",
   "metadata": {},
   "source": [
    "## Dtypes\n",
    "\n",
    "See [the NumPy docs](https://numpy.org/doc/stable/user/basics.types.html#data-types) for a fuller list."
   ]
  },
  {
   "cell_type": "code",
   "execution_count": null,
   "id": "f75b87b3-8d78-4f27-8c4c-418e6504cb29",
   "metadata": {},
   "outputs": [],
   "source": [
    "a.dtype"
   ]
  },
  {
   "cell_type": "code",
   "execution_count": null,
   "id": "d0198690-6ca0-4548-8f81-b2aac090d7f7",
   "metadata": {},
   "outputs": [],
   "source": [
    "a[2] = 5.5\n",
    "a"
   ]
  },
  {
   "cell_type": "code",
   "execution_count": null,
   "id": "e9060d56-ade5-44a7-b640-11423a918bf4",
   "metadata": {},
   "outputs": [],
   "source": [
    "b = np.array(range(10), dtype=float)\n",
    "b.dtype"
   ]
  },
  {
   "cell_type": "code",
   "execution_count": null,
   "id": "e52183f6-10ef-492b-b559-a5ab53a92ee6",
   "metadata": {},
   "outputs": [],
   "source": [
    "b[2] = 5.5\n",
    "b"
   ]
  },
  {
   "cell_type": "code",
   "execution_count": null,
   "id": "2d6dd10d-0acf-44fd-8c4a-633887aafb23",
   "metadata": {},
   "outputs": [],
   "source": []
  },
  {
   "cell_type": "markdown",
   "id": "bb8a6d33-6e8e-47b3-9001-7d95f42da0ae",
   "metadata": {},
   "source": [
    "## Digression: `printoptions`"
   ]
  },
  {
   "cell_type": "code",
   "execution_count": null,
   "id": "a6d0b0ee-0bb5-4131-800e-a6845adfb9eb",
   "metadata": {},
   "outputs": [],
   "source": [
    "np.get_printoptions()"
   ]
  },
  {
   "cell_type": "code",
   "execution_count": null,
   "id": "a3f349f9-dbce-4450-8009-b52b81e81b12",
   "metadata": {},
   "outputs": [],
   "source": [
    "np.set_printoptions(\n",
    "    precision=3,\n",
    "    linewidth=100,\n",
    ")"
   ]
  },
  {
   "cell_type": "markdown",
   "id": "d13138fe-8a49-48e5-92be-89c28bd6e4e0",
   "metadata": {},
   "source": [
    "## Computations\n",
    "\n",
    "Computations in NumPy are _vectorized_, meaning no `for` loops are needed.  In fact, `for` loops are discouraged because they will slow you down."
   ]
  },
  {
   "cell_type": "code",
   "execution_count": null,
   "id": "9695983c-84fc-4222-85ff-890f8ba57d35",
   "metadata": {},
   "outputs": [],
   "source": [
    "a + 1"
   ]
  },
  {
   "cell_type": "code",
   "execution_count": null,
   "id": "7cdda205-9a9e-4570-9b81-60051cd851f7",
   "metadata": {},
   "outputs": [],
   "source": [
    "%timeit a + 1"
   ]
  },
  {
   "cell_type": "code",
   "execution_count": null,
   "id": "3f72c53d-b06b-4ab0-b1a0-1159ec4bf9d3",
   "metadata": {},
   "outputs": [],
   "source": [
    "%%timeit\n",
    "for x in a:\n",
    "    a + 1"
   ]
  },
  {
   "cell_type": "markdown",
   "id": "7df1ae58-ad47-4153-a7e8-d26fb72210b2",
   "metadata": {},
   "source": [
    "NumPy comes with lots of functions that are designed to take advantage of the `ndarray` data structure.  These are called \"universal functions\", or 'ufuncs'."
   ]
  },
  {
   "cell_type": "code",
   "execution_count": null,
   "id": "baa8b93b-435e-4c7b-af0b-23240e206c25",
   "metadata": {},
   "outputs": [],
   "source": [
    "np.sin(a)"
   ]
  },
  {
   "cell_type": "markdown",
   "id": "06301962-0a09-4af4-90b6-02b2be4747b1",
   "metadata": {},
   "source": [
    "### Exercise 4 - Vectorized functions\n",
    "\n",
    "- Redo the computations of Exercise 1 using ufuncs.\n",
    "\n",
    "$y=\\sin\\left(x\\right)$\n",
    "\n",
    "- Check the speed of the computation using `%timeit`"
   ]
  },
  {
   "cell_type": "code",
   "execution_count": null,
   "id": "5bb482bf-f6e1-4e04-a044-0039005d9fbc",
   "metadata": {},
   "outputs": [],
   "source": [
    "# Your solution here"
   ]
  },
  {
   "cell_type": "markdown",
   "id": "90b0d261-5b20-4388-ad02-a799a26e89e7",
   "metadata": {},
   "source": [
    "#### Solution (expand to reveal)"
   ]
  },
  {
   "cell_type": "code",
   "execution_count": null,
   "id": "e1486dfc-d4e8-4287-aa82-e412d040915d",
   "metadata": {},
   "outputs": [],
   "source": [
    "x = np.linspace(-np.pi, np.pi, 101)\n",
    "y = np.sin(x)"
   ]
  },
  {
   "cell_type": "code",
   "execution_count": null,
   "id": "af0d3827-0c64-4027-a36a-9c5606cf3827",
   "metadata": {},
   "outputs": [],
   "source": [
    "%%timeit\n",
    "np.sin(x)"
   ]
  },
  {
   "cell_type": "markdown",
   "id": "f4c9d8ba-41d9-407f-94e2-b6a80ff70193",
   "metadata": {},
   "source": [
    "# Array Shape and Structure\n",
    "\n",
    "## Dimensions and Axes"
   ]
  },
  {
   "cell_type": "code",
   "execution_count": null,
   "id": "1051701b-b926-4108-8c65-4b9293cddafa",
   "metadata": {},
   "outputs": [],
   "source": [
    "a = np.arange(24)\n",
    "a"
   ]
  },
  {
   "cell_type": "code",
   "execution_count": null,
   "id": "6b0d1b7a-1f73-4397-9a29-dbe0964581c3",
   "metadata": {},
   "outputs": [],
   "source": [
    "a.shape"
   ]
  },
  {
   "cell_type": "markdown",
   "id": "cdb66fef-1e04-4095-9231-0729b1b57e30",
   "metadata": {},
   "source": [
    "## Shape Definition and Manipulation"
   ]
  },
  {
   "cell_type": "code",
   "execution_count": null,
   "id": "f43bd330-ae14-4983-acac-5af7f5a960d4",
   "metadata": {},
   "outputs": [],
   "source": [
    "a.shape = (6, 4)\n",
    "a"
   ]
  },
  {
   "cell_type": "code",
   "execution_count": null,
   "id": "d501ed40-b2dd-4c0f-99bb-b200e020677d",
   "metadata": {},
   "outputs": [],
   "source": [
    "a.shape = (2, 3, 4)\n",
    "a"
   ]
  },
  {
   "cell_type": "markdown",
   "id": "3e8d6812-f5b8-4915-b5d4-11f2e4115094",
   "metadata": {},
   "source": [
    "Convention on Display of Dimensions\n",
    "\n",
    "![title](img/NumPy_Axes.png)"
   ]
  },
  {
   "cell_type": "code",
   "execution_count": null,
   "id": "3b235a5e-54f1-4fb1-bd1c-e798bd7b7ebc",
   "metadata": {},
   "outputs": [],
   "source": [
    "len(a)"
   ]
  },
  {
   "cell_type": "code",
   "execution_count": null,
   "id": "139cf4ff-1e64-4e62-8037-7765e271cf6d",
   "metadata": {},
   "outputs": [],
   "source": [
    "a.reshape(2, 12)"
   ]
  },
  {
   "cell_type": "markdown",
   "id": "e3d81166-4788-4110-87a8-ca2e6815f5e5",
   "metadata": {},
   "source": [
    "### Array Data Structure\n",
    "\n",
    "![Array Data Structure](img/NumPy_Data_Structure.png)"
   ]
  },
  {
   "cell_type": "code",
   "execution_count": null,
   "id": "86bbaa29-1396-4238-9cc1-62489b1aade1",
   "metadata": {},
   "outputs": [],
   "source": [
    "a = np.arange(9)\n",
    "a"
   ]
  },
  {
   "cell_type": "code",
   "execution_count": null,
   "id": "a9980366-f18a-47fe-88bd-884fe95b79be",
   "metadata": {},
   "outputs": [],
   "source": [
    "a.shape = (3, 3)\n",
    "a"
   ]
  },
  {
   "cell_type": "code",
   "execution_count": null,
   "id": "3963b743-7ea0-40b9-a813-43cb2d398d77",
   "metadata": {},
   "outputs": [],
   "source": [
    "a.strides"
   ]
  },
  {
   "cell_type": "code",
   "execution_count": null,
   "id": "3bcfe3b3-4eaa-4661-b7ec-07d2d6e28408",
   "metadata": {},
   "outputs": [],
   "source": [
    "b = a.T\n",
    "b"
   ]
  },
  {
   "cell_type": "code",
   "execution_count": null,
   "id": "09fc5b5e-9093-4f53-be3f-b52f4949dbac",
   "metadata": {},
   "outputs": [],
   "source": [
    "b.strides"
   ]
  },
  {
   "cell_type": "code",
   "execution_count": null,
   "id": "f37ee80f-94ab-4fb0-99d1-40724bb32a9d",
   "metadata": {},
   "outputs": [],
   "source": [
    "a.flags"
   ]
  },
  {
   "cell_type": "code",
   "execution_count": null,
   "id": "f5b59242-2333-4dd9-9c92-9612dcba64d4",
   "metadata": {},
   "outputs": [],
   "source": [
    "b.flags"
   ]
  },
  {
   "cell_type": "code",
   "execution_count": null,
   "id": "bb160126-65f1-421f-b030-b8724b43ba3c",
   "metadata": {},
   "outputs": [],
   "source": []
  },
  {
   "cell_type": "markdown",
   "id": "8b6873b6-949e-48a1-9c3d-33d48a7fb214",
   "metadata": {},
   "source": [
    "# Loading Data"
   ]
  },
  {
   "cell_type": "code",
   "execution_count": null,
   "id": "676adbb0-130f-4c62-9205-c3225651a2dd",
   "metadata": {},
   "outputs": [],
   "source": [
    "np.loadtxt?"
   ]
  },
  {
   "cell_type": "code",
   "execution_count": null,
   "id": "08ddc25c-0f62-4389-b264-39c25eecf540",
   "metadata": {},
   "outputs": [],
   "source": [
    "data = np.loadtxt('data/wind_simple.data')\n",
    "data[:5]"
   ]
  },
  {
   "cell_type": "markdown",
   "id": "444ba218-6b3f-4cb5-ab2b-9dcf671bcba4",
   "metadata": {},
   "source": [
    "### More on `dtype`s - structured arrays"
   ]
  },
  {
   "cell_type": "code",
   "execution_count": null,
   "id": "478a6850-3d0e-40dc-b85f-b540d1aaa096",
   "metadata": {},
   "outputs": [],
   "source": [
    "wind_dtype = [\n",
    "    ('year', int),\n",
    "    ('month', int),\n",
    "    ('day', int),\n",
    "    ('wind', float, (12,)),\n",
    "]\n",
    "data = np.loadtxt('data/wind_simple.data', dtype=wind_dtype)\n",
    "data"
   ]
  },
  {
   "cell_type": "code",
   "execution_count": null,
   "id": "3c121c6d-5330-41fa-9d06-99999e30eda4",
   "metadata": {},
   "outputs": [],
   "source": [
    "data['wind']"
   ]
  },
  {
   "cell_type": "code",
   "execution_count": null,
   "id": "8e8d575e-a979-4625-ac60-a2c68bc7f6f5",
   "metadata": {},
   "outputs": [],
   "source": [
    "data['wind'].shape"
   ]
  },
  {
   "cell_type": "code",
   "execution_count": null,
   "id": "6b9a91a0-d25a-41f3-868f-e8b96e2a85c9",
   "metadata": {},
   "outputs": [],
   "source": [
    "print(data['year'].shape)\n",
    "data['year']"
   ]
  },
  {
   "cell_type": "code",
   "execution_count": null,
   "id": "b1dabc60-a245-49fa-bb4b-24fef77469d0",
   "metadata": {},
   "outputs": [],
   "source": [
    "data['year'].dtype"
   ]
  },
  {
   "cell_type": "code",
   "execution_count": null,
   "id": "a9d96439-77ee-4a8a-915a-eb7ea0439ef9",
   "metadata": {},
   "outputs": [],
   "source": [
    "years = data['year']"
   ]
  },
  {
   "cell_type": "code",
   "execution_count": null,
   "id": "f3507fcf-f73d-44e7-995a-17d06d48a729",
   "metadata": {},
   "outputs": [],
   "source": [
    "years"
   ]
  },
  {
   "cell_type": "markdown",
   "id": "b986c62e-50bf-4c2c-9a08-067cd5cd9db9",
   "metadata": {},
   "source": [
    "## Computations and shape\n",
    "\n",
    "Numpy has \"Reducing Functions\":  default is to provide a global computation that reduces to a single value.  Specify an axis to reduce that axis."
   ]
  },
  {
   "cell_type": "code",
   "execution_count": null,
   "id": "9f9b37b6-7573-4703-b22a-1a2f7b672d7b",
   "metadata": {},
   "outputs": [],
   "source": [
    "data['wind'].mean()"
   ]
  },
  {
   "cell_type": "code",
   "execution_count": null,
   "id": "f2da8a60-5278-429b-a7c0-5b2660d19312",
   "metadata": {},
   "outputs": [],
   "source": [
    "# axis 0 represents the days\n",
    "data['wind'].mean(axis=0)"
   ]
  },
  {
   "cell_type": "code",
   "execution_count": null,
   "id": "a13a702d-6d58-4305-b4df-28b83711e11e",
   "metadata": {},
   "outputs": [],
   "source": [
    "# axis 1 represents the locations\n",
    "data['wind'].mean(axis=1)"
   ]
  },
  {
   "cell_type": "code",
   "execution_count": null,
   "id": "d71be4bd-d1c8-4d1a-83ab-64b5d01c1c86",
   "metadata": {},
   "outputs": [],
   "source": [
    "data['wind'].max()"
   ]
  },
  {
   "cell_type": "code",
   "execution_count": null,
   "id": "6bf76d35-03bd-4270-ac1d-57d935d13ab9",
   "metadata": {},
   "outputs": [],
   "source": [
    "data['wind'].argmax()"
   ]
  },
  {
   "cell_type": "code",
   "execution_count": null,
   "id": "4c2d992b-642a-4ab4-8ff9-89b80086a125",
   "metadata": {},
   "outputs": [],
   "source": []
  },
  {
   "cell_type": "markdown",
   "id": "f3d3df69-7643-48fd-b7fd-d0a162be8aac",
   "metadata": {},
   "source": [
    "### Exercise 5 - Load Data from a Text File\n",
    "\n",
    "Open `wind.data` and take a look.  It has a blank row, a header row, and missing values, shown by `NaN`\n",
    "\n",
    "`np.genfromtxt` has more flexibility (but can be a little slower sometimes).  Explore `np.genfromtxt`'s `skip_header`, `names`, and `missing_values` keyword arguments.\n",
    "\n",
    "- Use `np.genfromtxt` to load the more-complicated data in `wind.data`.\n",
    "- Create `wind` that has just the wind speed measurements."
   ]
  },
  {
   "cell_type": "code",
   "execution_count": null,
   "id": "b2161bda-4b30-45b2-9aa4-ac21a0bb2126",
   "metadata": {},
   "outputs": [],
   "source": [
    "# Your code here"
   ]
  },
  {
   "cell_type": "markdown",
   "id": "afe5c50e-cd0f-4972-89ec-1f33fc999d4f",
   "metadata": {},
   "source": [
    "#### Solution (expand to reveal)"
   ]
  },
  {
   "cell_type": "code",
   "execution_count": null,
   "id": "ef847340-aa78-425a-b954-342023a7ae0d",
   "metadata": {
    "scrolled": true
   },
   "outputs": [],
   "source": [
    "np.genfromtxt?"
   ]
  },
  {
   "cell_type": "code",
   "execution_count": null,
   "id": "78fc0c55-90ce-4c53-afdd-a704a7cf469d",
   "metadata": {},
   "outputs": [],
   "source": [
    "data = np.genfromtxt('data/wind.data', skip_header=2, dtype=wind_dtype)\n",
    "data"
   ]
  },
  {
   "cell_type": "code",
   "execution_count": null,
   "id": "ab061c6c-7cf4-4822-a4ea-1bf5ff6b639f",
   "metadata": {},
   "outputs": [],
   "source": [
    "wind = data['wind']\n",
    "wind"
   ]
  },
  {
   "cell_type": "code",
   "execution_count": null,
   "id": "134df6d2-91c4-416a-927a-765be6cf338f",
   "metadata": {},
   "outputs": [],
   "source": [
    "# You can make use of names=True, to pull field names from the header rows.\n",
    "# Note that it overwrites the field names in the structured dtype.\n",
    "data = np.genfromtxt('data/wind.data', skip_header=1, names=True, dtype=wind_dtype)\n",
    "data"
   ]
  },
  {
   "cell_type": "code",
   "execution_count": null,
   "id": "bcb15bd5-45ec-4514-b985-88eb008d8166",
   "metadata": {},
   "outputs": [],
   "source": [
    "data.dtype.names"
   ]
  },
  {
   "cell_type": "code",
   "execution_count": null,
   "id": "b78783e2-6e4c-4668-91a6-8f74bab1e768",
   "metadata": {},
   "outputs": [],
   "source": [
    "wind = data['RPT']\n",
    "wind"
   ]
  },
  {
   "cell_type": "markdown",
   "id": "39106dde-eff6-476b-912b-7f2b4938d3cb",
   "metadata": {},
   "source": [
    "## Missing Data in NumPy\n",
    "\n",
    "NumPy uses `np.nan` - \"**n**ot **a** **n**umber\" to represent missing or invalid data."
   ]
  },
  {
   "cell_type": "code",
   "execution_count": null,
   "id": "6659fcca-e217-452d-b1e6-0a99c8603bbd",
   "metadata": {},
   "outputs": [],
   "source": [
    "wind.mean()"
   ]
  },
  {
   "cell_type": "code",
   "execution_count": null,
   "id": "dca2a8ef-4bed-4b09-acb1-9204ec0891d3",
   "metadata": {},
   "outputs": [],
   "source": [
    "np.nanmean(wind)"
   ]
  },
  {
   "cell_type": "code",
   "execution_count": null,
   "id": "adb1e9d8-f0c8-4acf-889a-fd5b2379998d",
   "metadata": {},
   "outputs": [],
   "source": []
  },
  {
   "cell_type": "markdown",
   "id": "7b2ddc20-3df8-4c3e-a789-3da68e3044e9",
   "metadata": {},
   "source": [
    "# \"Slicing and Dicing\"\n",
    "\n",
    "## Slices\n",
    "\n",
    "`[lower: upper: step]`"
   ]
  },
  {
   "cell_type": "code",
   "execution_count": null,
   "id": "ce4155cc-4e2f-4bb8-9621-cc68a6e761ba",
   "metadata": {},
   "outputs": [],
   "source": [
    "wind[:10:2]"
   ]
  },
  {
   "cell_type": "markdown",
   "id": "9368a2c7-e219-4540-b27b-97f09a3a64cb",
   "metadata": {},
   "source": [
    "Slices work on multiple dimensions"
   ]
  },
  {
   "cell_type": "code",
   "execution_count": null,
   "id": "08b41e8f-1eb3-4952-ae2f-5d4cbb700b87",
   "metadata": {},
   "outputs": [],
   "source": [
    "wind[:10:2, ::2]"
   ]
  },
  {
   "cell_type": "markdown",
   "id": "e339a39e-b96b-421c-948a-74dcd48166fa",
   "metadata": {},
   "source": [
    "Note that slices are _views_ into the array.  Changes in a slice affect the original data!"
   ]
  },
  {
   "cell_type": "code",
   "execution_count": null,
   "id": "6f7863ed-fd16-4d5f-a2c9-58a150b50967",
   "metadata": {},
   "outputs": [],
   "source": [
    "first_two_days = wind[:2]\n",
    "first_two_days.fill(0)\n",
    "data[:5]"
   ]
  },
  {
   "cell_type": "code",
   "execution_count": null,
   "id": "1470ac45-9858-45b7-a471-f979d3c4f6e2",
   "metadata": {},
   "outputs": [],
   "source": [
    "np.shares_memory(data, first_two_days)"
   ]
  },
  {
   "cell_type": "markdown",
   "id": "4bd26884-12f6-4bfa-a5cd-73b6590f3a11",
   "metadata": {},
   "source": [
    "### Use case: slicing in computations"
   ]
  },
  {
   "cell_type": "code",
   "execution_count": null,
   "id": "997a18d6-d125-441e-b44b-da46e7552aeb",
   "metadata": {},
   "outputs": [],
   "source": [
    "data = np.genfromtxt('data/wind.data', skip_header=1, names=True, dtype=wind_dtype)\n",
    "wind = data['RPT']"
   ]
  },
  {
   "cell_type": "code",
   "execution_count": null,
   "id": "505c6dd4-ebff-432f-9d57-93af1d74a8b8",
   "metadata": {},
   "outputs": [],
   "source": [
    "daily_average = wind.mean(axis=1)\n",
    "plt.plot(daily_average);"
   ]
  },
  {
   "cell_type": "code",
   "execution_count": null,
   "id": "2758d6e0-8ac8-4c27-ad8f-4fb749673762",
   "metadata": {},
   "outputs": [],
   "source": [
    "daily_change = daily_average[1:] - daily_average[:-1]\n",
    "plt.plot(daily_change);"
   ]
  },
  {
   "cell_type": "code",
   "execution_count": null,
   "id": "cb694b96-8c0a-4eac-85e5-123a04f09dc7",
   "metadata": {},
   "outputs": [],
   "source": [
    "img = plt.imread('img/NumPy_Axes.png')[::2, ::2, :]\n",
    "plt.imshow(img, cmap='Greys');\n",
    "print(img.shape)"
   ]
  },
  {
   "cell_type": "code",
   "execution_count": null,
   "id": "3f76ba63-6141-435e-bdc7-08249f7f94ca",
   "metadata": {},
   "outputs": [],
   "source": [
    "filt = (\n",
    "    img[:-2, 1:-1] +  # up\n",
    "    img[2: , 1:-1] +  # down\n",
    "    img[1:-1, 1:-1] +  #center\n",
    "    img[1:-1, :-2] +  # left\n",
    "    img[1:-1, 2:]\n",
    ") / 5"
   ]
  },
  {
   "cell_type": "code",
   "execution_count": null,
   "id": "86e09822-062d-495c-ab48-a15fc40a1a74",
   "metadata": {},
   "outputs": [],
   "source": [
    "%%timeit\n",
    "filt = (\n",
    "    img[:-2, 1:-1] +  # up\n",
    "    img[2: , 1:-1] +  # down\n",
    "    img[1:-1, 1:-1] +  #center\n",
    "    img[1:-1, :-2] +  # left\n",
    "    img[1:-1, 2:]\n",
    ") / 5"
   ]
  },
  {
   "cell_type": "code",
   "execution_count": null,
   "id": "7d88d1f1-7227-414b-aba1-4a9057f1edb4",
   "metadata": {},
   "outputs": [],
   "source": [
    "%%timeit\n",
    "new_shape = (img.shape[0] - 2, img.shape[1] - 2, img.shape[2])\n",
    "filt = np.empty(new_shape)\n",
    "for i in range(new_shape[0]):\n",
    "    for j in range(new_shape[1]):\n",
    "        for k in range(new_shape[2]):\n",
    "            filt[i, j, k] = (\n",
    "                img[i, j+1, k] +  # up\n",
    "                img [i+2, j+1, k] +  # down\n",
    "                img[i+1, j+1, k] +  # center\n",
    "                img[i+1, j, k] +  # left\n",
    "                img[i+1, j+2, k]\n",
    "            ) / 5"
   ]
  },
  {
   "cell_type": "code",
   "execution_count": null,
   "id": "1873eb4e-f108-4957-a96f-5ab5efb8cb9e",
   "metadata": {},
   "outputs": [],
   "source": [
    "diff = img[1:-1, 1:-1] - filt\n",
    "plt.imshow(diff, norm='linear');"
   ]
  },
  {
   "cell_type": "markdown",
   "id": "3b724a91-9cf0-4948-9b4d-1a99a9c73923",
   "metadata": {},
   "source": [
    "### Exercise 6 - Compute the Derivative of $sin\\left(x\\right)$ using array slicing\n",
    "\n",
    "$\n",
    "\\begin{align}\n",
    "\\frac{dy}{dx} & \\approx\\frac{\\Delta y}{\\Delta x} \\\\\n",
    "\\frac{\\Delta y}{\\Delta x}\\bigg|_i & =\\frac{y_{i+1}-y_{i}}{x_{i+1}-x_{i}} \\ \\ \\textrm{for} \\ i=0 \\dots \\ n-1 \\\\\n",
    "\\end{align}\n",
    "$"
   ]
  },
  {
   "cell_type": "code",
   "execution_count": null,
   "id": "ae606546-e2fb-45b3-b868-e800929f9cbe",
   "metadata": {},
   "outputs": [],
   "source": [
    "x = np.linspace(-np.pi, np.pi, 101)\n",
    "y = np.sin(x)\n",
    "# Your code here"
   ]
  },
  {
   "cell_type": "markdown",
   "id": "580f2b3a-d3e2-42aa-99b8-3bbc12481333",
   "metadata": {},
   "source": [
    "#### Solution (expand to reveal)"
   ]
  },
  {
   "cell_type": "code",
   "execution_count": null,
   "id": "2c30e2c6-5597-4cd0-ae14-206762beaaaf",
   "metadata": {},
   "outputs": [],
   "source": [
    "dx = x[1:] - x[:-1]\n",
    "dy = y[1:] - y[:-1]\n",
    "dy_dx = dy/dx\n",
    "plt.plot(x,y)\n",
    "plt.plot(x[1:], dy_dx);"
   ]
  },
  {
   "cell_type": "code",
   "execution_count": null,
   "id": "029ad648-2a6b-463a-b7c6-0ead733b039d",
   "metadata": {},
   "outputs": [],
   "source": [
    "%%timeit\n",
    "\n",
    "dx = x[1:] - x[:-1]\n",
    "dy = y[1:] - y[:-1]\n",
    "dy_dx = dy/dx"
   ]
  },
  {
   "cell_type": "markdown",
   "id": "db130a58-4710-4c88-992c-822c007648f3",
   "metadata": {},
   "source": [
    "## Fancy Indexing and Mask Arrays"
   ]
  },
  {
   "cell_type": "markdown",
   "id": "6aa49444-6846-4776-a011-5b5ed6295d74",
   "metadata": {},
   "source": [
    "### Positional Indices\n",
    "(specify the locations)"
   ]
  },
  {
   "cell_type": "code",
   "execution_count": null,
   "id": "8cf10f1b-d790-4521-b668-3e1bd62f189c",
   "metadata": {},
   "outputs": [],
   "source": [
    "indices = (\n",
    "    [0, 1, 2, 3, 4],\n",
    "    [4, 3, 2, 1, 0],\n",
    ")\n",
    "wind[indices]"
   ]
  },
  {
   "cell_type": "code",
   "execution_count": null,
   "id": "dbe072a7-7fd0-4c05-a8dd-e9544d431167",
   "metadata": {},
   "outputs": [],
   "source": [
    "identity = np.zeros((10,10), dtype=int)\n",
    "diagonal = (range(10), range(10))\n",
    "identity[diagonal] = 1\n",
    "identity"
   ]
  },
  {
   "cell_type": "markdown",
   "id": "70ea95eb-0b5a-4ed1-b41f-31b1dceb3396",
   "metadata": {},
   "source": [
    "### Mask Arrays\n",
    "\n",
    "`True` and `False` specify the action"
   ]
  },
  {
   "cell_type": "code",
   "execution_count": null,
   "id": "2b3acd66-f46c-41ce-9682-d6db013ac1f0",
   "metadata": {},
   "outputs": [],
   "source": [
    "high_wind = 20.\n",
    "wind > high_wind"
   ]
  },
  {
   "cell_type": "code",
   "execution_count": null,
   "id": "33f9ee87-0b45-4f00-a764-aedb39acb36a",
   "metadata": {},
   "outputs": [],
   "source": [
    "high_wind_mask = wind > high_wind\n",
    "high_wind = wind[high_wind_mask]\n",
    "high_wind"
   ]
  },
  {
   "cell_type": "code",
   "execution_count": null,
   "id": "c57ac3ed-b0e5-43a7-9c4b-f6b750cd13af",
   "metadata": {},
   "outputs": [],
   "source": [
    "len(high_wind)"
   ]
  },
  {
   "cell_type": "code",
   "execution_count": null,
   "id": "618f8e38-f798-4c79-8b3d-383c84505611",
   "metadata": {},
   "outputs": [],
   "source": []
  },
  {
   "cell_type": "markdown",
   "id": "15b5d2a8-c81d-497d-bfa2-902b81944fe3",
   "metadata": {},
   "source": [
    "## Broadcasting"
   ]
  },
  {
   "cell_type": "code",
   "execution_count": null,
   "id": "dbf0c294-4ba8-434b-a23f-87491ea095a0",
   "metadata": {},
   "outputs": [],
   "source": [
    "x = np.linspace(-np.pi, np.pi, 1002)\n",
    "x"
   ]
  },
  {
   "cell_type": "code",
   "execution_count": null,
   "id": "a615ab4e-5542-416a-8dd9-25ee7afc76a8",
   "metadata": {},
   "outputs": [],
   "source": [
    "x.shape = (-1,1)\n",
    "x.shape"
   ]
  },
  {
   "cell_type": "code",
   "execution_count": null,
   "id": "656cc0ff-8c46-4f11-a4ee-2b3fd93c8e0a",
   "metadata": {},
   "outputs": [],
   "source": [
    "x.T.shape"
   ]
  },
  {
   "cell_type": "code",
   "execution_count": null,
   "id": "49e2af70-f0b6-4da2-85f8-64692c9d7dc5",
   "metadata": {},
   "outputs": [],
   "source": [
    "r = np.sqrt(x ** 2 + x.T ** 2)\n",
    "z = np.sin(2 * r) / r"
   ]
  },
  {
   "cell_type": "code",
   "execution_count": null,
   "id": "c543e7ba-64f9-49a9-b31c-86548fa7803e",
   "metadata": {},
   "outputs": [],
   "source": [
    "z.shape"
   ]
  },
  {
   "cell_type": "code",
   "execution_count": null,
   "id": "da01fa66-3553-4dd0-9ccf-73c37bf079d4",
   "metadata": {},
   "outputs": [],
   "source": [
    "ax = plt.figure().add_subplot(projection='3d')\n",
    "ax.plot_surface(x, x.T, z)"
   ]
  },
  {
   "cell_type": "code",
   "execution_count": null,
   "id": "225b4a08-228b-45d8-9aef-b40a37a5989d",
   "metadata": {},
   "outputs": [],
   "source": []
  }
 ],
 "metadata": {
  "kernelspec": {
   "display_name": "Python 3 (ipykernel)",
   "language": "python",
   "name": "python3"
  },
  "language_info": {
   "codemirror_mode": {
    "name": "ipython",
    "version": 3
   },
   "file_extension": ".py",
   "mimetype": "text/x-python",
   "name": "python",
   "nbconvert_exporter": "python",
   "pygments_lexer": "ipython3",
   "version": "3.11.7"
  }
 },
 "nbformat": 4,
 "nbformat_minor": 5
}
